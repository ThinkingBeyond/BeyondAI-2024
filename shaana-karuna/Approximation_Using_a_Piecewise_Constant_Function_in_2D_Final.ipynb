{
  "nbformat": 4,
  "nbformat_minor": 0,
  "metadata": {
    "colab": {
      "provenance": [],
      "authorship_tag": "ABX9TyP8idLNgPP9oT5gQev3WI3N",
      "include_colab_link": true
    },
    "kernelspec": {
      "name": "python3",
      "display_name": "Python 3"
    },
    "language_info": {
      "name": "python"
    },
    "widgets": {
      "application/vnd.jupyter.widget-state+json": {
        "c8f018cf14f64bbd85a22dc72377d6e4": {
          "model_module": "@jupyter-widgets/controls",
          "model_name": "ButtonModel",
          "model_module_version": "1.5.0",
          "state": {
            "_dom_classes": [],
            "_model_module": "@jupyter-widgets/controls",
            "_model_module_version": "1.5.0",
            "_model_name": "ButtonModel",
            "_view_count": null,
            "_view_module": "@jupyter-widgets/controls",
            "_view_module_version": "1.5.0",
            "_view_name": "ButtonView",
            "button_style": "",
            "description": "y=sin(6x)",
            "disabled": false,
            "icon": "",
            "layout": "IPY_MODEL_af1ee0c16892442e9f0b6267e8f0dafc",
            "style": "IPY_MODEL_95f99a4eb6f24577a416afcbd66b773d",
            "tooltip": ""
          }
        },
        "af1ee0c16892442e9f0b6267e8f0dafc": {
          "model_module": "@jupyter-widgets/base",
          "model_name": "LayoutModel",
          "model_module_version": "1.2.0",
          "state": {
            "_model_module": "@jupyter-widgets/base",
            "_model_module_version": "1.2.0",
            "_model_name": "LayoutModel",
            "_view_count": null,
            "_view_module": "@jupyter-widgets/base",
            "_view_module_version": "1.2.0",
            "_view_name": "LayoutView",
            "align_content": null,
            "align_items": null,
            "align_self": null,
            "border": null,
            "bottom": null,
            "display": null,
            "flex": null,
            "flex_flow": null,
            "grid_area": null,
            "grid_auto_columns": null,
            "grid_auto_flow": null,
            "grid_auto_rows": null,
            "grid_column": null,
            "grid_gap": null,
            "grid_row": null,
            "grid_template_areas": null,
            "grid_template_columns": null,
            "grid_template_rows": null,
            "height": "50px",
            "justify_content": null,
            "justify_items": null,
            "left": null,
            "margin": null,
            "max_height": null,
            "max_width": null,
            "min_height": null,
            "min_width": null,
            "object_fit": null,
            "object_position": null,
            "order": null,
            "overflow": null,
            "overflow_x": null,
            "overflow_y": null,
            "padding": null,
            "right": null,
            "top": null,
            "visibility": null,
            "width": "200px"
          }
        },
        "95f99a4eb6f24577a416afcbd66b773d": {
          "model_module": "@jupyter-widgets/controls",
          "model_name": "ButtonStyleModel",
          "model_module_version": "1.5.0",
          "state": {
            "_model_module": "@jupyter-widgets/controls",
            "_model_module_version": "1.5.0",
            "_model_name": "ButtonStyleModel",
            "_view_count": null,
            "_view_module": "@jupyter-widgets/base",
            "_view_module_version": "1.2.0",
            "_view_name": "StyleView",
            "button_color": "black",
            "font_weight": "bold"
          }
        },
        "c2b36ebc4463431f80a06ee34b5a15a7": {
          "model_module": "@jupyter-widgets/controls",
          "model_name": "ButtonModel",
          "model_module_version": "1.5.0",
          "state": {
            "_dom_classes": [],
            "_model_module": "@jupyter-widgets/controls",
            "_model_module_version": "1.5.0",
            "_model_name": "ButtonModel",
            "_view_count": null,
            "_view_module": "@jupyter-widgets/controls",
            "_view_module_version": "1.5.0",
            "_view_name": "ButtonView",
            "button_style": "",
            "description": "y=0.05(7x-2)^2(7x-6)^2",
            "disabled": false,
            "icon": "",
            "layout": "IPY_MODEL_be8d6b9cf5d64d59a65003c8db183459",
            "style": "IPY_MODEL_f5e9b584e4f04af9a54cfd7d9529a159",
            "tooltip": ""
          }
        },
        "be8d6b9cf5d64d59a65003c8db183459": {
          "model_module": "@jupyter-widgets/base",
          "model_name": "LayoutModel",
          "model_module_version": "1.2.0",
          "state": {
            "_model_module": "@jupyter-widgets/base",
            "_model_module_version": "1.2.0",
            "_model_name": "LayoutModel",
            "_view_count": null,
            "_view_module": "@jupyter-widgets/base",
            "_view_module_version": "1.2.0",
            "_view_name": "LayoutView",
            "align_content": null,
            "align_items": null,
            "align_self": null,
            "border": null,
            "bottom": null,
            "display": null,
            "flex": null,
            "flex_flow": null,
            "grid_area": null,
            "grid_auto_columns": null,
            "grid_auto_flow": null,
            "grid_auto_rows": null,
            "grid_column": null,
            "grid_gap": null,
            "grid_row": null,
            "grid_template_areas": null,
            "grid_template_columns": null,
            "grid_template_rows": null,
            "height": "50px",
            "justify_content": null,
            "justify_items": null,
            "left": null,
            "margin": null,
            "max_height": null,
            "max_width": null,
            "min_height": null,
            "min_width": null,
            "object_fit": null,
            "object_position": null,
            "order": null,
            "overflow": null,
            "overflow_x": null,
            "overflow_y": null,
            "padding": null,
            "right": null,
            "top": null,
            "visibility": null,
            "width": "200px"
          }
        },
        "f5e9b584e4f04af9a54cfd7d9529a159": {
          "model_module": "@jupyter-widgets/controls",
          "model_name": "ButtonStyleModel",
          "model_module_version": "1.5.0",
          "state": {
            "_model_module": "@jupyter-widgets/controls",
            "_model_module_version": "1.5.0",
            "_model_name": "ButtonStyleModel",
            "_view_count": null,
            "_view_module": "@jupyter-widgets/base",
            "_view_module_version": "1.2.0",
            "_view_name": "StyleView",
            "button_color": "black",
            "font_weight": "bold"
          }
        },
        "0ac4b617a1704d4f9e4a7f3838e2978a": {
          "model_module": "@jupyter-widgets/controls",
          "model_name": "ButtonModel",
          "model_module_version": "1.5.0",
          "state": {
            "_dom_classes": [],
            "_model_module": "@jupyter-widgets/controls",
            "_model_module_version": "1.5.0",
            "_model_name": "ButtonModel",
            "_view_count": null,
            "_view_module": "@jupyter-widgets/controls",
            "_view_module_version": "1.5.0",
            "_view_name": "ButtonView",
            "button_style": "",
            "description": "y=e^(x-1)",
            "disabled": false,
            "icon": "",
            "layout": "IPY_MODEL_32a0ee0b7d4a4feda406a31e6107b48d",
            "style": "IPY_MODEL_1fdab1729c9e43e490d73cbc1f063c8a",
            "tooltip": ""
          }
        },
        "32a0ee0b7d4a4feda406a31e6107b48d": {
          "model_module": "@jupyter-widgets/base",
          "model_name": "LayoutModel",
          "model_module_version": "1.2.0",
          "state": {
            "_model_module": "@jupyter-widgets/base",
            "_model_module_version": "1.2.0",
            "_model_name": "LayoutModel",
            "_view_count": null,
            "_view_module": "@jupyter-widgets/base",
            "_view_module_version": "1.2.0",
            "_view_name": "LayoutView",
            "align_content": null,
            "align_items": null,
            "align_self": null,
            "border": null,
            "bottom": null,
            "display": null,
            "flex": null,
            "flex_flow": null,
            "grid_area": null,
            "grid_auto_columns": null,
            "grid_auto_flow": null,
            "grid_auto_rows": null,
            "grid_column": null,
            "grid_gap": null,
            "grid_row": null,
            "grid_template_areas": null,
            "grid_template_columns": null,
            "grid_template_rows": null,
            "height": "50px",
            "justify_content": null,
            "justify_items": null,
            "left": null,
            "margin": null,
            "max_height": null,
            "max_width": null,
            "min_height": null,
            "min_width": null,
            "object_fit": null,
            "object_position": null,
            "order": null,
            "overflow": null,
            "overflow_x": null,
            "overflow_y": null,
            "padding": null,
            "right": null,
            "top": null,
            "visibility": null,
            "width": "200px"
          }
        },
        "1fdab1729c9e43e490d73cbc1f063c8a": {
          "model_module": "@jupyter-widgets/controls",
          "model_name": "ButtonStyleModel",
          "model_module_version": "1.5.0",
          "state": {
            "_model_module": "@jupyter-widgets/controls",
            "_model_module_version": "1.5.0",
            "_model_name": "ButtonStyleModel",
            "_view_count": null,
            "_view_module": "@jupyter-widgets/base",
            "_view_module_version": "1.2.0",
            "_view_name": "StyleView",
            "button_color": "black",
            "font_weight": "bold"
          }
        },
        "2b2003285c6241939cc3784cfbeb0da3": {
          "model_module": "@jupyter-widgets/controls",
          "model_name": "VBoxModel",
          "model_module_version": "1.5.0",
          "state": {
            "_dom_classes": [
              "widget-interact"
            ],
            "_model_module": "@jupyter-widgets/controls",
            "_model_module_version": "1.5.0",
            "_model_name": "VBoxModel",
            "_view_count": null,
            "_view_module": "@jupyter-widgets/controls",
            "_view_module_version": "1.5.0",
            "_view_name": "VBoxView",
            "box_style": "",
            "children": [
              "IPY_MODEL_5e2322c9cd8d483dab6795be78782f26",
              "IPY_MODEL_bcab0195788b4961ba029882aa543866"
            ],
            "layout": "IPY_MODEL_1b799970fb3e4994a2df97ece4bfaa01"
          }
        },
        "5e2322c9cd8d483dab6795be78782f26": {
          "model_module": "@jupyter-widgets/controls",
          "model_name": "IntSliderModel",
          "model_module_version": "1.5.0",
          "state": {
            "_dom_classes": [],
            "_model_module": "@jupyter-widgets/controls",
            "_model_module_version": "1.5.0",
            "_model_name": "IntSliderModel",
            "_view_count": null,
            "_view_module": "@jupyter-widgets/controls",
            "_view_module_version": "1.5.0",
            "_view_name": "IntSliderView",
            "continuous_update": true,
            "description": "n_sections",
            "description_tooltip": null,
            "disabled": false,
            "layout": "IPY_MODEL_78adb98495fd45cc940a6f80634f8e58",
            "max": 100,
            "min": 1,
            "orientation": "horizontal",
            "readout": true,
            "readout_format": "d",
            "step": 1,
            "style": "IPY_MODEL_cc9accd0789c42e3ac4e3a22f155adeb",
            "value": 50
          }
        },
        "bcab0195788b4961ba029882aa543866": {
          "model_module": "@jupyter-widgets/output",
          "model_name": "OutputModel",
          "model_module_version": "1.0.0",
          "state": {
            "_dom_classes": [],
            "_model_module": "@jupyter-widgets/output",
            "_model_module_version": "1.0.0",
            "_model_name": "OutputModel",
            "_view_count": null,
            "_view_module": "@jupyter-widgets/output",
            "_view_module_version": "1.0.0",
            "_view_name": "OutputView",
            "layout": "IPY_MODEL_e1ef322662d64b16a612088877cee764",
            "msg_id": "",
            "outputs": [
              {
                "output_type": "display_data",
                "data": {
                  "text/plain": "<Figure size 800x400 with 1 Axes>",
                  "image/png": "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\n"
                },
                "metadata": {}
              }
            ]
          }
        },
        "1b799970fb3e4994a2df97ece4bfaa01": {
          "model_module": "@jupyter-widgets/base",
          "model_name": "LayoutModel",
          "model_module_version": "1.2.0",
          "state": {
            "_model_module": "@jupyter-widgets/base",
            "_model_module_version": "1.2.0",
            "_model_name": "LayoutModel",
            "_view_count": null,
            "_view_module": "@jupyter-widgets/base",
            "_view_module_version": "1.2.0",
            "_view_name": "LayoutView",
            "align_content": null,
            "align_items": null,
            "align_self": null,
            "border": null,
            "bottom": null,
            "display": null,
            "flex": null,
            "flex_flow": null,
            "grid_area": null,
            "grid_auto_columns": null,
            "grid_auto_flow": null,
            "grid_auto_rows": null,
            "grid_column": null,
            "grid_gap": null,
            "grid_row": null,
            "grid_template_areas": null,
            "grid_template_columns": null,
            "grid_template_rows": null,
            "height": null,
            "justify_content": null,
            "justify_items": null,
            "left": null,
            "margin": null,
            "max_height": null,
            "max_width": null,
            "min_height": null,
            "min_width": null,
            "object_fit": null,
            "object_position": null,
            "order": null,
            "overflow": null,
            "overflow_x": null,
            "overflow_y": null,
            "padding": null,
            "right": null,
            "top": null,
            "visibility": null,
            "width": null
          }
        },
        "78adb98495fd45cc940a6f80634f8e58": {
          "model_module": "@jupyter-widgets/base",
          "model_name": "LayoutModel",
          "model_module_version": "1.2.0",
          "state": {
            "_model_module": "@jupyter-widgets/base",
            "_model_module_version": "1.2.0",
            "_model_name": "LayoutModel",
            "_view_count": null,
            "_view_module": "@jupyter-widgets/base",
            "_view_module_version": "1.2.0",
            "_view_name": "LayoutView",
            "align_content": null,
            "align_items": null,
            "align_self": null,
            "border": null,
            "bottom": null,
            "display": null,
            "flex": null,
            "flex_flow": null,
            "grid_area": null,
            "grid_auto_columns": null,
            "grid_auto_flow": null,
            "grid_auto_rows": null,
            "grid_column": null,
            "grid_gap": null,
            "grid_row": null,
            "grid_template_areas": null,
            "grid_template_columns": null,
            "grid_template_rows": null,
            "height": null,
            "justify_content": null,
            "justify_items": null,
            "left": null,
            "margin": null,
            "max_height": null,
            "max_width": null,
            "min_height": null,
            "min_width": null,
            "object_fit": null,
            "object_position": null,
            "order": null,
            "overflow": null,
            "overflow_x": null,
            "overflow_y": null,
            "padding": null,
            "right": null,
            "top": null,
            "visibility": null,
            "width": null
          }
        },
        "cc9accd0789c42e3ac4e3a22f155adeb": {
          "model_module": "@jupyter-widgets/controls",
          "model_name": "SliderStyleModel",
          "model_module_version": "1.5.0",
          "state": {
            "_model_module": "@jupyter-widgets/controls",
            "_model_module_version": "1.5.0",
            "_model_name": "SliderStyleModel",
            "_view_count": null,
            "_view_module": "@jupyter-widgets/base",
            "_view_module_version": "1.2.0",
            "_view_name": "StyleView",
            "description_width": "",
            "handle_color": null
          }
        },
        "e1ef322662d64b16a612088877cee764": {
          "model_module": "@jupyter-widgets/base",
          "model_name": "LayoutModel",
          "model_module_version": "1.2.0",
          "state": {
            "_model_module": "@jupyter-widgets/base",
            "_model_module_version": "1.2.0",
            "_model_name": "LayoutModel",
            "_view_count": null,
            "_view_module": "@jupyter-widgets/base",
            "_view_module_version": "1.2.0",
            "_view_name": "LayoutView",
            "align_content": null,
            "align_items": null,
            "align_self": null,
            "border": null,
            "bottom": null,
            "display": null,
            "flex": null,
            "flex_flow": null,
            "grid_area": null,
            "grid_auto_columns": null,
            "grid_auto_flow": null,
            "grid_auto_rows": null,
            "grid_column": null,
            "grid_gap": null,
            "grid_row": null,
            "grid_template_areas": null,
            "grid_template_columns": null,
            "grid_template_rows": null,
            "height": null,
            "justify_content": null,
            "justify_items": null,
            "left": null,
            "margin": null,
            "max_height": null,
            "max_width": null,
            "min_height": null,
            "min_width": null,
            "object_fit": null,
            "object_position": null,
            "order": null,
            "overflow": null,
            "overflow_x": null,
            "overflow_y": null,
            "padding": null,
            "right": null,
            "top": null,
            "visibility": null,
            "width": null
          }
        }
      }
    }
  },
  "cells": [
    {
      "cell_type": "markdown",
      "metadata": {
        "id": "view-in-github",
        "colab_type": "text"
      },
      "source": [
        "<a href=\"https://colab.research.google.com/github/ThinkingBeyond/BeyondAI-2024/blob/main/shaana-karuna/Approximation_Using_a_Piecewise_Constant_Function_in_2D_Final.ipynb\" target=\"_parent\"><img src=\"https://colab.research.google.com/assets/colab-badge.svg\" alt=\"Open In Colab\"/></a>"
      ]
    },
    {
      "cell_type": "markdown",
      "source": [
        "#Summary of code\n",
        "\n",
        "The purpose of this code is to create a piecewise constant function that the user can interact with to aid understanding of how a piecewise constant function can approximate a continuous function. The user can also choose the continuous function being approximated out of 3 choices."
      ],
      "metadata": {
        "id": "zQANDG0Jc5iv"
      }
    },
    {
      "cell_type": "code",
      "execution_count": null,
      "metadata": {
        "colab": {
          "base_uri": "https://localhost:8080/",
          "height": 604,
          "referenced_widgets": [
            "c8f018cf14f64bbd85a22dc72377d6e4",
            "af1ee0c16892442e9f0b6267e8f0dafc",
            "95f99a4eb6f24577a416afcbd66b773d",
            "c2b36ebc4463431f80a06ee34b5a15a7",
            "be8d6b9cf5d64d59a65003c8db183459",
            "f5e9b584e4f04af9a54cfd7d9529a159",
            "0ac4b617a1704d4f9e4a7f3838e2978a",
            "32a0ee0b7d4a4feda406a31e6107b48d",
            "1fdab1729c9e43e490d73cbc1f063c8a",
            "2b2003285c6241939cc3784cfbeb0da3",
            "5e2322c9cd8d483dab6795be78782f26",
            "bcab0195788b4961ba029882aa543866",
            "1b799970fb3e4994a2df97ece4bfaa01",
            "78adb98495fd45cc940a6f80634f8e58",
            "cc9accd0789c42e3ac4e3a22f155adeb",
            "e1ef322662d64b16a612088877cee764"
          ]
        },
        "id": "NGZghxXGEvuf",
        "outputId": "003e991d-6a43-4866-e97b-d5f6390b14d6"
      },
      "outputs": [
        {
          "output_type": "display_data",
          "data": {
            "text/plain": [
              "Button(description='y=sin(6x)', layout=Layout(height='50px', width='200px'), style=ButtonStyle(button_color='b…"
            ],
            "application/vnd.jupyter.widget-view+json": {
              "version_major": 2,
              "version_minor": 0,
              "model_id": "c8f018cf14f64bbd85a22dc72377d6e4"
            }
          },
          "metadata": {}
        },
        {
          "output_type": "display_data",
          "data": {
            "text/plain": [
              "Button(description='y=0.05(7x-2)^2(7x-6)^2', layout=Layout(height='50px', width='200px'), style=ButtonStyle(bu…"
            ],
            "application/vnd.jupyter.widget-view+json": {
              "version_major": 2,
              "version_minor": 0,
              "model_id": "c2b36ebc4463431f80a06ee34b5a15a7"
            }
          },
          "metadata": {}
        },
        {
          "output_type": "display_data",
          "data": {
            "text/plain": [
              "Button(description='y=e^(x-1)', layout=Layout(height='50px', width='200px'), style=ButtonStyle(button_color='b…"
            ],
            "application/vnd.jupyter.widget-view+json": {
              "version_major": 2,
              "version_minor": 0,
              "model_id": "0ac4b617a1704d4f9e4a7f3838e2978a"
            }
          },
          "metadata": {}
        },
        {
          "output_type": "display_data",
          "data": {
            "text/plain": [
              "interactive(children=(IntSlider(value=50, description='n_sections', min=1), Output()), _dom_classes=('widget-i…"
            ],
            "application/vnd.jupyter.widget-view+json": {
              "version_major": 2,
              "version_minor": 0,
              "model_id": "2b2003285c6241939cc3784cfbeb0da3"
            }
          },
          "metadata": {}
        }
      ],
      "source": [
        "#Importing all necessary libraries\n",
        "import numpy as np\n",
        "import matplotlib.pyplot as plt\n",
        "from ipywidgets import interact\n",
        "import ipywidgets as widgets\n",
        "from IPython.display import display\n",
        "import math\n",
        "\n",
        "#Creating a function which applies the chosen function\n",
        "def function(input):\n",
        "  if chosen_func == 1:\n",
        "    return math.sin(6*input)\n",
        "  elif chosen_func == 2:\n",
        "    return 0.05*((7*input-2)**2)*((7*input-6)**2)\n",
        "  elif chosen_func == 3:\n",
        "    return (math.e)**(input-1)\n",
        "\n",
        "#Creating the piecewise function, using the function chosen\n",
        "def piecewise_function(x, n_sections):\n",
        "    y_1 = np.piecewise(x,\n",
        "                        [((i / n_sections) <= x) & (x < ((i + 1) / n_sections)) for i in range(n_sections)],\n",
        "                        [lambda x, i=i: function(i/n_sections) for i in range(n_sections)])\n",
        "    y_1[999] = function(1)\n",
        "    return y_1\n",
        "\n",
        "#Plotting both functions\n",
        "def plot_piecewise(n_sections):\n",
        "    x = np.linspace(0, 1, 1000)\n",
        "    y = piecewise_function(x, n_sections)\n",
        "\n",
        "    plt.figure(figsize=(8, 4))\n",
        "    ax = plt.gca()\n",
        "    ax.set_facecolor('#17282A')\n",
        "    plt.plot(x, y, label=f'{n_sections} sections', color=\"#F5F5DD\")\n",
        "    plt.plot(x, [function(i) for i in x], color='#93C280')\n",
        "    plt.title(\"Approximation Using a Piecewise Constant Function in 2D\")\n",
        "    plt.xlabel(\"x\")\n",
        "    plt.ylabel(\"y\")\n",
        "    plt.grid()\n",
        "    plt.legend()\n",
        "    plt.show()\n",
        "\n",
        "\n",
        "\n",
        "#For when button is clicked when the function is chosen\n",
        "def sin_clicked(b):\n",
        "  global chosen_func\n",
        "  chosen_func = 1\n",
        "  interact(plot_piecewise, n_sections=(1, 100, 1))\n",
        "def quartic_clicked(b):\n",
        "  global chosen_func\n",
        "  chosen_func = 2\n",
        "  interact(plot_piecewise, n_sections=(1, 100, 1))\n",
        "def exp_clicked(b):\n",
        "  global chosen_func\n",
        "  chosen_func = 3\n",
        "  interact(plot_piecewise, n_sections=(1, 100, 1))\n",
        "\n",
        "\n",
        "#Defining buttons for choosing the continuous functiom\n",
        "sin_button = widgets.Button(description=\"y=sin(6x)\", layout=widgets.Layout(width='200px', height='50px'),\n",
        "    style=widgets.ButtonStyle(\n",
        "        button_color='black',\n",
        "        color='black',\n",
        "        font_weight='bold'))\n",
        "sin_button.on_click(sin_clicked)\n",
        "display(sin_button)\n",
        "quartic_button = widgets.Button(description=\"y=0.05(7x-2)^2(7x-6)^2\", layout=widgets.Layout(width='200px', height='50px'),\n",
        "    style=widgets.ButtonStyle(\n",
        "        button_color='black',\n",
        "        font_weight='bold'))\n",
        "quartic_button.on_click(quartic_clicked)\n",
        "display(quartic_button)\n",
        "exp_button = widgets.Button(description=\"y=e^(x-1)\", layout=widgets.Layout(width='200px', height='50px'),\n",
        "    style=widgets.ButtonStyle(\n",
        "        button_color='black',\n",
        "        font_weight='bold'))\n",
        "exp_button.on_click(exp_clicked)\n",
        "display(exp_button)"
      ]
    },
    {
      "cell_type": "code",
      "source": [],
      "metadata": {
        "id": "gfRFbJFrkc8W"
      },
      "execution_count": null,
      "outputs": []
    }
  ]
}