{
  "cells": [
    {
      "cell_type": "markdown",
      "metadata": {
        "id": "view-in-github",
        "colab_type": "text"
      },
      "source": [
        "<a href=\"https://colab.research.google.com/github/ThinkingBeyond/BeyondAI-2024/blob/main/Wine_Dataset_Review.ipynb\" target=\"_parent\"><img src=\"https://colab.research.google.com/assets/colab-badge.svg\" alt=\"Open In Colab\"/></a>"
      ]
    },
    {
      "cell_type": "markdown",
      "source": [
        "This is a code that compares Kolmogorov Arnold Networks (KANs) with the Multi-Layer Pereptron (MLPs).\n",
        "\n",
        "I aim to use graphical representation to understand how each model converges, the maximum accuracy achieved by each model, the loss each model has while training on the dataset.\n",
        "\n",
        "The comparison would also be done using some criterias such as precision,recall,f1 score and confusion matrix"
      ],
      "metadata": {
        "id": "IsMaxq6AVXqf"
      }
    },
    {
      "cell_type": "markdown",
      "metadata": {
        "id": "FRVmujAS_5KM"
      },
      "source": [
        "##Import Necessary Libraries"
      ]
    },
    {
      "cell_type": "code",
      "execution_count": 43,
      "metadata": {
        "colab": {
          "base_uri": "https://localhost:8080/"
        },
        "collapsed": true,
        "id": "BcXEEdI7_JeR",
        "outputId": "4fa081b3-5dd6-4733-fc30-32333e7b7f34"
      },
      "outputs": [
        {
          "output_type": "stream",
          "name": "stdout",
          "text": [
            "Collecting git+https://github.com/KindXiaoming/pykan.git\n",
            "  Cloning https://github.com/KindXiaoming/pykan.git to /tmp/pip-req-build-cfaywj19\n",
            "  Running command git clone --filter=blob:none --quiet https://github.com/KindXiaoming/pykan.git /tmp/pip-req-build-cfaywj19\n",
            "  Resolved https://github.com/KindXiaoming/pykan.git to commit f871c26d4df788ec1ba309c2c9c1803d82606b06\n",
            "  Preparing metadata (setup.py) ... \u001b[?25l\u001b[?25hdone\n"
          ]
        }
      ],
      "source": [
        "!pip install git+https://github.com/KindXiaoming/pykan.git"
      ]
    },
    {
      "cell_type": "code",
      "source": [
        "import pandas as pd\n",
        "import numpy as np\n",
        "import matplotlib.pyplot as plt\n",
        "import torch\n",
        "import torch.nn as nn\n",
        "from kan import *\n",
        "from sklearn.neural_network import MLPClassifier\n",
        "from sklearn.model_selection import train_test_split\n",
        "from sklearn.model_selection import GridSearchCV\n",
        "from sklearn.metrics import accuracy_score, confusion_matrix, recall_score, classification_report\n",
        "from sklearn.preprocessing import StandardScaler\n",
        "import time\n",
        "import warnings\n",
        "warnings.filterwarnings(\"ignore\")"
      ],
      "metadata": {
        "id": "OtDshUPVgoba"
      },
      "execution_count": 60,
      "outputs": []
    },
    {
      "cell_type": "markdown",
      "metadata": {
        "id": "viFNCJ0n_4Gw"
      },
      "source": [
        "##Models"
      ]
    },
    {
      "cell_type": "markdown",
      "source": [
        "The models are being called here along with the number of layers, activation function and other hyperparameters needed for the initial run"
      ],
      "metadata": {
        "id": "E8bN5Mjkgygj"
      }
    },
    {
      "cell_type": "code",
      "execution_count": 59,
      "metadata": {
        "colab": {
          "base_uri": "https://localhost:8080/"
        },
        "id": "-jPhfJ1l_1sT",
        "outputId": "b8f7ef0e-7e2d-4aed-caa7-70ea5e7f788e"
      },
      "outputs": [
        {
          "output_type": "stream",
          "name": "stdout",
          "text": [
            "checkpoint directory created: ./model\n",
            "saving model version 0.0\n"
          ]
        }
      ],
      "source": [
        "#MLP Model\n",
        "mlp = MLPClassifier(hidden_layer_sizes=(5,5,5),\n",
        "                    max_iter=1,\n",
        "                    activation='tanh',\n",
        "                    learning_rate='adaptive',\n",
        "                    alpha= 0.1,\n",
        "                    solver='adam',\n",
        "                    random_state=42,\n",
        "                    verbose = False)\n",
        "\n",
        "#KAN Model\n",
        "width = [13,5,5,5,3] # should be adjusted based on dataset\n",
        "kan = KAN(width=width, grid=5, k=3, seed=42)"
      ]
    },
    {
      "cell_type": "markdown",
      "metadata": {
        "id": "RXqFvEH1BNB1"
      },
      "source": [
        "#Functions"
      ]
    },
    {
      "cell_type": "markdown",
      "source": [
        "All the functions to be used for calculating the accuracies, losses, precision, recall, confusion matrix. The function to plot the graph is also written here."
      ],
      "metadata": {
        "id": "odZ0X2nOhGQh"
      }
    },
    {
      "cell_type": "markdown",
      "source": [
        "##Model Functions"
      ],
      "metadata": {
        "id": "gEgXBgcVMZhE"
      }
    },
    {
      "cell_type": "code",
      "execution_count": 46,
      "metadata": {
        "id": "L7ex_yBiBW3P"
      },
      "outputs": [],
      "source": [
        "def MLP_run(mlp,X_train,y_train,X_test,y_test):\n",
        "  y_train = torch.tensor(y_train, dtype=torch.float32)\n",
        "  y_test = torch.tensor(y_test, dtype=torch.float32)\n",
        "  criterion = nn.MSELoss()\n",
        "  start_time = time.time()\n",
        "  mlp.partial_fit(X_train, y_train, classes=np.unique(y_train))\n",
        "  y_pred_train = mlp.predict(X_train)\n",
        "  train_acc = accuracy_score(y_train, y_pred_train)\n",
        "  train_loss = criterion(torch.tensor(y_pred_train, dtype=torch.float32), torch.tensor(y_train, dtype=torch.float32))\n",
        "\n",
        "  y_pred_test = mlp.predict(X_test)\n",
        "  test_acc = accuracy_score(y_test, y_pred_test)\n",
        "  test_loss = criterion(torch.tensor(y_pred_test, dtype=torch.float32), torch.tensor(y_test, dtype=torch.float32))\n",
        "  end_time = time.time()\n",
        "  MLP_Execution_Time = end_time - start_time\n",
        "  return train_acc, test_acc, train_loss, test_loss, MLP_Execution_Time\n",
        "\n",
        "\n",
        "def KAN_run(model,X_train,y_train,X_test,y_test,epochs):\n",
        "  y_train = torch.tensor(y_train, dtype=torch.long)\n",
        "  y_test = torch.tensor(y_test, dtype=torch.long)\n",
        "  optimizer = torch.optim.Adam(model.parameters(), lr=0.1)\n",
        "  loss_fn = nn.CrossEntropyLoss()\n",
        "  kan_train_accuracy = []\n",
        "  kan_test_accuracy = []\n",
        "  kan_train_loss = []\n",
        "  kan_test_loss = []\n",
        "  starting_time = time.time()\n",
        "  for epoch in range(epochs): #training\n",
        "    optimizer.zero_grad()\n",
        "    outputs = model(X_train)\n",
        "    predicted = torch.argmax(outputs, dim=1)\n",
        "    train_accuracy = accuracy_score(y_train-1, predicted)\n",
        "    train_loss = loss_fn(outputs, y_train-1)\n",
        "    train_loss.backward()\n",
        "    optimizer.step()\n",
        "    kan_train_accuracy.append(train_accuracy)\n",
        "    kan_train_loss.append(train_loss.item())\n",
        "    if (epoch + 1) % 10 == 0:\n",
        "      print(f'Epoch [{epoch+1}/{epochs}],KAN Train Loss: {train_loss.item():.3f}, KAN Train Accuracy: {train_accuracy}')\n",
        "  for epoch in range(epochs): # testing\n",
        "    predicted = model(x_test_tensor)\n",
        "    test_accuracy = accuracy_score(y_test_tensor, predicted.argmax(1)+1)\n",
        "    test_loss = loss_fn(predicted, y_test_tensor-1)\n",
        "    kan_test_accuracy.append(test_accuracy)\n",
        "    kan_test_loss.append(test_loss.item())\n",
        "    if (epoch + 1) % 10 == 0:\n",
        "      print(f'Epoch [{epoch+1}/{epochs}],KAN Test Loss: {test_loss.item():.3f},KAN Test Accuracy: {test_accuracy:.3f}')\n",
        "  final_time = time.time()\n",
        "  KAN_Execution_Time = final_time - starting_time\n",
        "  return kan_train_accuracy, kan_test_accuracy, kan_train_loss, kan_test_loss, KAN_Execution_Time"
      ]
    },
    {
      "cell_type": "markdown",
      "source": [
        "##Model Run Function"
      ],
      "metadata": {
        "id": "QuDnSAvzc2lt"
      }
    },
    {
      "cell_type": "code",
      "execution_count": 47,
      "metadata": {
        "id": "lxvrmcWvC1Ue"
      },
      "outputs": [],
      "source": [
        "def run_models(epochs):\n",
        "  train_accuracies,test_accuracies,train_losses,test_losses = [],[],[],[]\n",
        "  execution_time = 0\n",
        "  for i in range(epochs):\n",
        "    mlp_model_run = MLP_run(mlp,x_train_tensor,y_train_tensor,x_test_tensor,y_test_tensor)\n",
        "    execution_time += mlp_model_run[4]\n",
        "    train_accuracies.append(mlp_model_run[0])\n",
        "    test_accuracies.append(mlp_model_run[1])\n",
        "    train_losses.append(mlp_model_run[2])\n",
        "    test_losses.append(mlp_model_run[3])\n",
        "    if (i + 1) % 10 == 0:\n",
        "      print(f'Epoch [{i+1}/{epochs}],MLP Train Loss: {mlp_model_run[2]:.3f}, MLP Train Accuracy: {mlp_model_run[0]}')\n",
        "  print()\n",
        "  for i in range(epochs):\n",
        "    if (i +1)% 10 == 0:\n",
        "      print(f'Epoch [{i+1}/{epochs}],MLP Test Loss: {mlp_model_run[3]:.3f}, MLP Test Accuracy: {mlp_model_run[1]}')\n",
        "  mlp_metrics = [train_accuracies,test_accuracies,train_losses,test_losses]\n",
        "  print(f'MLP Execution time: {execution_time:.2f} seconds')\n",
        "  print()\n",
        "  kan_model_run = KAN_run(kan,x_train_tensor,y_train_tensor,x_test_tensor,y_test_tensor,epochs)\n",
        "  kan_metrics = [kan_model_run[0],kan_model_run[1],kan_model_run[2],kan_model_run[3]]\n",
        "  print(f'KAN Execution time: {kan_model_run[4]:.2f} seconds')\n",
        "\n",
        "  return mlp_metrics,kan_metrics"
      ]
    },
    {
      "cell_type": "markdown",
      "metadata": {
        "id": "hI3eyPDc1gbD"
      },
      "source": [
        "##Plot Function"
      ]
    },
    {
      "cell_type": "code",
      "execution_count": 48,
      "metadata": {
        "id": "LUsqvwwO1eq7"
      },
      "outputs": [],
      "source": [
        "def plot_comparison_over_epochs(mlp_metrics,kan_metrics, num_epochs):\n",
        "    epochs = range(1, num_epochs + 1)\n",
        "    mlp_train_acc, mlp_test_acc, mlp_train_loss, mlp_test_loss = mlp_metrics\n",
        "    kan_train_acc, kan_test_acc, kan_train_loss, kan_test_loss = kan_metrics\n",
        "\n",
        "    plt.figure(figsize=(10,6))\n",
        "\n",
        "    # Graph of Train Accuracy for both models over number of epochs\n",
        "    plt.subplot(221)\n",
        "    plt.plot(epochs, mlp_train_acc, label='MLP Train Accuracy',color='blue' )\n",
        "    plt.plot(epochs, mlp_test_acc, label='MLP Test Accuracy',color='red' )\n",
        "    plt.xlabel('Epochs')\n",
        "    plt.ylabel('Accuracy')\n",
        "    plt.title('MLP Train and Test Accuracy Over Epochs')\n",
        "    plt.legend()\n",
        "\n",
        "    # Graph of Test Accuracy for both models over number of epochs\n",
        "    plt.subplot(222)\n",
        "    plt.plot(epochs, kan_train_acc, label='KAN Train Accuracy',color='blue')\n",
        "    plt.plot(epochs, kan_test_acc, label='KAN Test Accuracy',color='red')\n",
        "    plt.xlabel('Epochs')\n",
        "    plt.ylabel('Accuracy')\n",
        "    plt.title('KAN Train and Test Accuracy Over Epochs')\n",
        "    plt.legend()\n",
        "\n",
        "    # Graph of loss of both models during training\n",
        "    plt.subplot(223)\n",
        "    plt.plot(epochs, mlp_train_loss, label='MLP Train Loss')\n",
        "    plt.plot(epochs, kan_train_loss, label='KAN Train Loss')\n",
        "    plt.xlabel('Epochs')\n",
        "    plt.ylabel('Loss')\n",
        "    plt.title('Training Loss Over Epochs')\n",
        "    plt.legend()\n",
        "\n",
        "    plt.tight_layout()\n",
        "    plt.show()"
      ]
    },
    {
      "cell_type": "markdown",
      "source": [
        "##Comparison Criteria Functions"
      ],
      "metadata": {
        "id": "TMS-nQNQaqwE"
      }
    },
    {
      "cell_type": "code",
      "source": [
        "def criteria_comparison(mlp,kan,x_test_tensor,y_test_tensor):\n",
        "  mlp_classification= classification_report(y_test_tensor, mlp.predict(x_test_tensor))\n",
        "  kan_classification = classification_report(y_test_tensor, kan(x_test_tensor).argmax(1)+1)\n",
        "  mlp_confusion = confusion_matrix(y_test_tensor, mlp.predict(x_test_tensor))\n",
        "  kan_confusion = confusion_matrix(y_test_tensor, kan(x_test_tensor).argmax(1)+1)\n",
        "  print(f'MLP Classification Report:\\n{mlp_classification}')\n",
        "  print(f'MLP Confusion Matrix:\\n{mlp_confusion}')\n",
        "  print(f'KAN Classification Report:\\n{kan_classification}')\n",
        "  print(f'KAN Confusion Matrix:\\n{kan_confusion}')"
      ],
      "metadata": {
        "id": "O5i0dI9bavhf"
      },
      "execution_count": 49,
      "outputs": []
    },
    {
      "cell_type": "markdown",
      "source": [
        "#Dataset"
      ],
      "metadata": {
        "id": "3wE_1Z3gMOp7"
      }
    },
    {
      "cell_type": "markdown",
      "source": [
        "The dataset to be used for the analysis is loaded here as well as preparation for the dataset using standard scaler(to make every feature have a mean of 0 and a standard deviation of 1) for faster convergence and imporved performance"
      ],
      "metadata": {
        "id": "VyF72oCtiP-2"
      }
    },
    {
      "cell_type": "markdown",
      "metadata": {
        "id": "cDe6EHenCQT0"
      },
      "source": [
        "##Load Dataset"
      ]
    },
    {
      "cell_type": "code",
      "execution_count": 50,
      "metadata": {
        "id": "VLD4BDBHCTRr"
      },
      "outputs": [],
      "source": [
        "url_wine = 'https://gist.githubusercontent.com/tijptjik/9408623/raw/b237fa5848349a14a14e5d4107dc7897c21951f5/wine.csv'\n",
        "df = pd.read_csv(url_wine)\n",
        "x = df.drop('Wine', axis=1).values\n",
        "y = df['Wine'].values"
      ]
    },
    {
      "cell_type": "markdown",
      "metadata": {
        "id": "qSsKZk7TCafa"
      },
      "source": [
        "##Prepare Dataset"
      ]
    },
    {
      "cell_type": "code",
      "execution_count": 51,
      "metadata": {
        "id": "bHLgU-5yCZLj"
      },
      "outputs": [],
      "source": [
        "x_train, x_test, y_train, y_test = train_test_split(x, y, test_size=0.4, random_state=42)\n",
        "# Standardize features\n",
        "scaler = StandardScaler()\n",
        "X_train = scaler.fit_transform(x_train)\n",
        "X_test = scaler.transform(x_test)\n",
        "# Converting data to tensors\n",
        "x_train_tensor = torch.tensor(X_train, dtype=torch.float32)\n",
        "y_train_tensor = torch.tensor(y_train)\n",
        "x_test_tensor = torch.tensor(X_test, dtype=torch.float32)\n",
        "y_test_tensor = torch.tensor(y_test)"
      ]
    },
    {
      "cell_type": "markdown",
      "metadata": {
        "id": "WgRQmGitCypQ"
      },
      "source": [
        "# Runing the model\n"
      ]
    },
    {
      "cell_type": "markdown",
      "source": [
        "Running the models over epochs\n",
        "\n",
        "Plotting the accuracies and loss over epochs\n",
        "\n",
        "Calculating other comparison criteria\n",
        "\n"
      ],
      "metadata": {
        "id": "EZChtkRsjq7Z"
      }
    },
    {
      "cell_type": "markdown",
      "source": [
        "## Runing each model"
      ],
      "metadata": {
        "id": "wLfc0P1GNGzu"
      }
    },
    {
      "cell_type": "code",
      "source": [
        "epochs = 50\n",
        "mlp_metrics,kan_metrics = run_models(epochs)"
      ],
      "metadata": {
        "colab": {
          "base_uri": "https://localhost:8080/"
        },
        "id": "FjZENRdneG24",
        "outputId": "a17a9dfb-bc8a-4eef-db9f-b938255cbe54"
      },
      "execution_count": 52,
      "outputs": [
        {
          "output_type": "stream",
          "name": "stdout",
          "text": [
            "Epoch [10/50],MLP Train Loss: 0.953, MLP Train Accuracy: 0.4716981132075472\n",
            "Epoch [20/50],MLP Train Loss: 0.858, MLP Train Accuracy: 0.4811320754716981\n",
            "Epoch [30/50],MLP Train Loss: 0.802, MLP Train Accuracy: 0.5094339622641509\n",
            "Epoch [40/50],MLP Train Loss: 0.792, MLP Train Accuracy: 0.5188679245283019\n",
            "Epoch [50/50],MLP Train Loss: 0.679, MLP Train Accuracy: 0.5471698113207547\n",
            "\n",
            "Epoch [10/50],MLP Test Loss: 1.014, MLP Test Accuracy: 0.5694444444444444\n",
            "Epoch [20/50],MLP Test Loss: 1.014, MLP Test Accuracy: 0.5694444444444444\n",
            "Epoch [30/50],MLP Test Loss: 1.014, MLP Test Accuracy: 0.5694444444444444\n",
            "Epoch [40/50],MLP Test Loss: 1.014, MLP Test Accuracy: 0.5694444444444444\n",
            "Epoch [50/50],MLP Test Loss: 1.014, MLP Test Accuracy: 0.5694444444444444\n",
            "MLP Execution time: 0.21 seconds\n",
            "\n",
            "Epoch [10/50],KAN Train Loss: 0.007, KAN Train Accuracy: 1.0\n",
            "Epoch [20/50],KAN Train Loss: 0.004, KAN Train Accuracy: 1.0\n",
            "Epoch [30/50],KAN Train Loss: 0.011, KAN Train Accuracy: 0.9905660377358491\n",
            "Epoch [40/50],KAN Train Loss: 0.003, KAN Train Accuracy: 1.0\n",
            "Epoch [50/50],KAN Train Loss: 0.000, KAN Train Accuracy: 1.0\n",
            "Epoch [10/50],KAN Test Loss: 0.529,KAN Test Accuracy: 0.944\n",
            "Epoch [20/50],KAN Test Loss: 0.529,KAN Test Accuracy: 0.944\n",
            "Epoch [30/50],KAN Test Loss: 0.529,KAN Test Accuracy: 0.944\n",
            "Epoch [40/50],KAN Test Loss: 0.529,KAN Test Accuracy: 0.944\n",
            "Epoch [50/50],KAN Test Loss: 0.529,KAN Test Accuracy: 0.944\n",
            "KAN Execution time: 8.56 seconds\n"
          ]
        }
      ]
    },
    {
      "cell_type": "markdown",
      "source": [
        "##Plotting Accuracy and Loss function"
      ],
      "metadata": {
        "id": "rYu5fWPLM9hp"
      }
    },
    {
      "cell_type": "code",
      "source": [
        "plot_comparison_over_epochs(mlp_metrics, kan_metrics,epochs)"
      ],
      "metadata": {
        "id": "VMblm0kIM6DX",
        "colab": {
          "base_uri": "https://localhost:8080/",
          "height": 0
        },
        "outputId": "ba12ff6d-cb67-4c96-80ce-13503bae0544"
      },
      "execution_count": 53,
      "outputs": [
        {
          "output_type": "display_data",
          "data": {
            "text/plain": [
              "<Figure size 1000x600 with 3 Axes>"
            ],
            "image/png": "[encoded data removed]"
          },
          "metadata": {}
        }
      ]
    },
    {
      "cell_type": "markdown",
      "source": [
        "## Calculating the f1 score, precision, recall, and the confusion matrix (how well each model classifies each classes)"
      ],
      "metadata": {
        "id": "mqs77K5yjNS0"
      }
    },
    {
      "cell_type": "code",
      "source": [
        "criteria_comparison(mlp,kan,x_test_tensor,y_test_tensor)"
      ],
      "metadata": {
        "colab": {
          "base_uri": "https://localhost:8080/"
        },
        "id": "YcYaLIgBZexa",
        "outputId": "0ffb6a04-d44d-4786-93dd-b907898fd526"
      },
      "execution_count": 54,
      "outputs": [
        {
          "output_type": "stream",
          "name": "stdout",
          "text": [
            "MLP Classification Report:\n",
            "              precision    recall  f1-score   support\n",
            "\n",
            "           1       0.00      0.00      0.00        26\n",
            "           2       0.65      0.81      0.72        27\n",
            "           3       0.50      1.00      0.67        19\n",
            "\n",
            "    accuracy                           0.57        72\n",
            "   macro avg       0.38      0.60      0.46        72\n",
            "weighted avg       0.37      0.57      0.45        72\n",
            "\n",
            "MLP Confusion Matrix:\n",
            "[[ 0 12 14]\n",
            " [ 0 22  5]\n",
            " [ 0  0 19]]\n",
            "KAN Classification Report:\n",
            "              precision    recall  f1-score   support\n",
            "\n",
            "           1       0.87      1.00      0.93        26\n",
            "           2       1.00      0.85      0.92        27\n",
            "           3       1.00      1.00      1.00        19\n",
            "\n",
            "    accuracy                           0.94        72\n",
            "   macro avg       0.96      0.95      0.95        72\n",
            "weighted avg       0.95      0.94      0.94        72\n",
            "\n",
            "KAN Confusion Matrix:\n",
            "[[26  0  0]\n",
            " [ 4 23  0]\n",
            " [ 0  0 19]]\n"
          ]
        }
      ]
    },
    {
      "cell_type": "markdown",
      "source": [
        "#Hyperparameter Tunning"
      ],
      "metadata": {
        "id": "rq9OP0s93pQ4"
      }
    },
    {
      "cell_type": "markdown",
      "source": [
        "## Mlp"
      ],
      "metadata": {
        "id": "L1TKbhbDIWWa"
      }
    },
    {
      "cell_type": "code",
      "source": [
        "param_grid_mlp = {\n",
        "    'hidden_layer_sizes': [(5,5,5), (10,10), (15,15)],\n",
        "    'activation': ['relu', 'tanh'],\n",
        "    'alpha':[0.001,0.01,0.1],\n",
        "    'learning_rate':['adaptive','constant'],\n",
        "    'solver':['adam','sgd']}\n",
        "mlp = MLPClassifier(max_iter=1000, random_state=42)\n",
        "clf = GridSearchCV(mlp, param_grid_mlp, cv=5, scoring='accuracy')\n",
        "clf.fit(x_train_tensor, y_train_tensor)"
      ],
      "metadata": {
        "id": "up71XoAz3s7c",
        "colab": {
          "base_uri": "https://localhost:8080/",
          "height": 0
        },
        "outputId": "e312597a-8204-456a-b3bc-c8078f94e540"
      },
      "execution_count": 55,
      "outputs": [
        {
          "output_type": "execute_result",
          "data": {
            "text/plain": [
              "GridSearchCV(cv=5, estimator=MLPClassifier(max_iter=1000, random_state=42),\n",
              "             param_grid={'activation': ['relu', 'tanh'],\n",
              "                         'alpha': [0.001, 0.01, 0.1],\n",
              "                         'hidden_layer_sizes': [(5, 5, 5), (10, 10), (15, 15)],\n",
              "                         'learning_rate': ['adaptive', 'constant'],\n",
              "                         'solver': ['adam', 'sgd']},\n",
              "             scoring='accuracy')"
            ],
            "text/html": [
              "<style>#sk-container-id-4 {\n",
              "  /* Definition of color scheme common for light and dark mode */\n",
              "  --sklearn-color-text: black;\n",
              "  --sklearn-color-line: gray;\n",
              "  /* Definition of color scheme for unfitted estimators */\n",
              "  --sklearn-color-unfitted-level-0: #fff5e6;\n",
              "  --sklearn-color-unfitted-level-1: #f6e4d2;\n",
              "  --sklearn-color-unfitted-level-2: #ffe0b3;\n",
              "  --sklearn-color-unfitted-level-3: chocolate;\n",
              "  /* Definition of color scheme for fitted estimators */\n",
              "  --sklearn-color-fitted-level-0: #f0f8ff;\n",
              "  --sklearn-color-fitted-level-1: #d4ebff;\n",
              "  --sklearn-color-fitted-level-2: #b3dbfd;\n",
              "  --sklearn-color-fitted-level-3: cornflowerblue;\n",
              "\n",
              "  /* Specific color for light theme */\n",
              "  --sklearn-color-text-on-default-background: var(--sg-text-color, var(--theme-code-foreground, var(--jp-content-font-color1, black)));\n",
              "  --sklearn-color-background: var(--sg-background-color, var(--theme-background, var(--jp-layout-color0, white)));\n",
              "  --sklearn-color-border-box: var(--sg-text-color, var(--theme-code-foreground, var(--jp-content-font-color1, black)));\n",
              "  --sklearn-color-icon: #696969;\n",
              "\n",
              "  @media (prefers-color-scheme: dark) {\n",
              "    /* Redefinition of color scheme for dark theme */\n",
              "    --sklearn-color-text-on-default-background: var(--sg-text-color, var(--theme-code-foreground, var(--jp-content-font-color1, white)));\n",
              "    --sklearn-color-background: var(--sg-background-color, var(--theme-background, var(--jp-layout-color0, #111)));\n",
              "    --sklearn-color-border-box: var(--sg-text-color, var(--theme-code-foreground, var(--jp-content-font-color1, white)));\n",
              "    --sklearn-color-icon: #878787;\n",
              "  }\n",
              "}\n",
              "\n",
              "#sk-container-id-4 {\n",
              "  color: var(--sklearn-color-text);\n",
              "}\n",
              "\n",
              "#sk-container-id-4 pre {\n",
              "  padding: 0;\n",
              "}\n",
              "\n",
              "#sk-container-id-4 input.sk-hidden--visually {\n",
              "  border: 0;\n",
              "  clip: rect(1px 1px 1px 1px);\n",
              "  clip: rect(1px, 1px, 1px, 1px);\n",
              "  height: 1px;\n",
              "  margin: -1px;\n",
              "  overflow: hidden;\n",
              "  padding: 0;\n",
              "  position: absolute;\n",
              "  width: 1px;\n",
              "}\n",
              "\n",
              "#sk-container-id-4 div.sk-dashed-wrapped {\n",
              "  border: 1px dashed var(--sklearn-color-line);\n",
              "  margin: 0 0.4em 0.5em 0.4em;\n",
              "  box-sizing: border-box;\n",
              "  padding-bottom: 0.4em;\n",
              "  background-color: var(--sklearn-color-background);\n",
              "}\n",
              "\n",
              "#sk-container-id-4 div.sk-container {\n",
              "  /* jupyter's `normalize.less` sets `[hidden] { display: none; }`\n",
              "     but bootstrap.min.css set `[hidden] { display: none !important; }`\n",
              "     so we also need the `!important` here to be able to override the\n",
              "     default hidden behavior on the sphinx rendered scikit-learn.org.\n",
              "     See: https://github.com/scikit-learn/scikit-learn/issues/21755 */\n",
              "  display: inline-block !important;\n",
              "  position: relative;\n",
              "}\n",
              "\n",
              "#sk-container-id-4 div.sk-text-repr-fallback {\n",
              "  display: none;\n",
              "}\n",
              "\n",
              "div.sk-parallel-item,\n",
              "div.sk-serial,\n",
              "div.sk-item {\n",
              "  /* draw centered vertical line to link estimators */\n",
              "  background-image: linear-gradient(var(--sklearn-color-text-on-default-background), var(--sklearn-color-text-on-default-background));\n",
              "  background-size: 2px 100%;\n",
              "  background-repeat: no-repeat;\n",
              "  background-position: center center;\n",
              "}\n",
              "\n",
              "/* Parallel-specific style estimator block */\n",
              "\n",
              "#sk-container-id-4 div.sk-parallel-item::after {\n",
              "  content: \"\";\n",
              "  width: 100%;\n",
              "  border-bottom: 2px solid var(--sklearn-color-text-on-default-background);\n",
              "  flex-grow: 1;\n",
              "}\n",
              "\n",
              "#sk-container-id-4 div.sk-parallel {\n",
              "  display: flex;\n",
              "  align-items: stretch;\n",
              "  justify-content: center;\n",
              "  background-color: var(--sklearn-color-background);\n",
              "  position: relative;\n",
              "}\n",
              "\n",
              "#sk-container-id-4 div.sk-parallel-item {\n",
              "  display: flex;\n",
              "  flex-direction: column;\n",
              "}\n",
              "\n",
              "#sk-container-id-4 div.sk-parallel-item:first-child::after {\n",
              "  align-self: flex-end;\n",
              "  width: 50%;\n",
              "}\n",
              "\n",
              "#sk-container-id-4 div.sk-parallel-item:last-child::after {\n",
              "  align-self: flex-start;\n",
              "  width: 50%;\n",
              "}\n",
              "\n",
              "#sk-container-id-4 div.sk-parallel-item:only-child::after {\n",
              "  width: 0;\n",
              "}\n",
              "\n",
              "/* Serial-specific style estimator block */\n",
              "\n",
              "#sk-container-id-4 div.sk-serial {\n",
              "  display: flex;\n",
              "  flex-direction: column;\n",
              "  align-items: center;\n",
              "  background-color: var(--sklearn-color-background);\n",
              "  padding-right: 1em;\n",
              "  padding-left: 1em;\n",
              "}\n",
              "\n",
              "\n",
              "/* Toggleable style: style used for estimator/Pipeline/ColumnTransformer box that is\n",
              "clickable and can be expanded/collapsed.\n",
              "- Pipeline and ColumnTransformer use this feature and define the default style\n",
              "- Estimators will overwrite some part of the style using the `sk-estimator` class\n",
              "*/\n",
              "\n",
              "/* Pipeline and ColumnTransformer style (default) */\n",
              "\n",
              "#sk-container-id-4 div.sk-toggleable {\n",
              "  /* Default theme specific background. It is overwritten whether we have a\n",
              "  specific estimator or a Pipeline/ColumnTransformer */\n",
              "  background-color: var(--sklearn-color-background);\n",
              "}\n",
              "\n",
              "/* Toggleable label */\n",
              "#sk-container-id-4 label.sk-toggleable__label {\n",
              "  cursor: pointer;\n",
              "  display: block;\n",
              "  width: 100%;\n",
              "  margin-bottom: 0;\n",
              "  padding: 0.5em;\n",
              "  box-sizing: border-box;\n",
              "  text-align: center;\n",
              "}\n",
              "\n",
              "#sk-container-id-4 label.sk-toggleable__label-arrow:before {\n",
              "  /* Arrow on the left of the label */\n",
              "  content: \"▸\";\n",
              "  float: left;\n",
              "  margin-right: 0.25em;\n",
              "  color: var(--sklearn-color-icon);\n",
              "}\n",
              "\n",
              "#sk-container-id-4 label.sk-toggleable__label-arrow:hover:before {\n",
              "  color: var(--sklearn-color-text);\n",
              "}\n",
              "\n",
              "/* Toggleable content - dropdown */\n",
              "\n",
              "#sk-container-id-4 div.sk-toggleable__content {\n",
              "  max-height: 0;\n",
              "  max-width: 0;\n",
              "  overflow: hidden;\n",
              "  text-align: left;\n",
              "  /* unfitted */\n",
              "  background-color: var(--sklearn-color-unfitted-level-0);\n",
              "}\n",
              "\n",
              "#sk-container-id-4 div.sk-toggleable__content.fitted {\n",
              "  /* fitted */\n",
              "  background-color: var(--sklearn-color-fitted-level-0);\n",
              "}\n",
              "\n",
              "#sk-container-id-4 div.sk-toggleable__content pre {\n",
              "  margin: 0.2em;\n",
              "  border-radius: 0.25em;\n",
              "  color: var(--sklearn-color-text);\n",
              "  /* unfitted */\n",
              "  background-color: var(--sklearn-color-unfitted-level-0);\n",
              "}\n",
              "\n",
              "#sk-container-id-4 div.sk-toggleable__content.fitted pre {\n",
              "  /* unfitted */\n",
              "  background-color: var(--sklearn-color-fitted-level-0);\n",
              "}\n",
              "\n",
              "#sk-container-id-4 input.sk-toggleable__control:checked~div.sk-toggleable__content {\n",
              "  /* Expand drop-down */\n",
              "  max-height: 200px;\n",
              "  max-width: 100%;\n",
              "  overflow: auto;\n",
              "}\n",
              "\n",
              "#sk-container-id-4 input.sk-toggleable__control:checked~label.sk-toggleable__label-arrow:before {\n",
              "  content: \"▾\";\n",
              "}\n",
              "\n",
              "/* Pipeline/ColumnTransformer-specific style */\n",
              "\n",
              "#sk-container-id-4 div.sk-label input.sk-toggleable__control:checked~label.sk-toggleable__label {\n",
              "  color: var(--sklearn-color-text);\n",
              "  background-color: var(--sklearn-color-unfitted-level-2);\n",
              "}\n",
              "\n",
              "#sk-container-id-4 div.sk-label.fitted input.sk-toggleable__control:checked~label.sk-toggleable__label {\n",
              "  background-color: var(--sklearn-color-fitted-level-2);\n",
              "}\n",
              "\n",
              "/* Estimator-specific style */\n",
              "\n",
              "/* Colorize estimator box */\n",
              "#sk-container-id-4 div.sk-estimator input.sk-toggleable__control:checked~label.sk-toggleable__label {\n",
              "  /* unfitted */\n",
              "  background-color: var(--sklearn-color-unfitted-level-2);\n",
              "}\n",
              "\n",
              "#sk-container-id-4 div.sk-estimator.fitted input.sk-toggleable__control:checked~label.sk-toggleable__label {\n",
              "  /* fitted */\n",
              "  background-color: var(--sklearn-color-fitted-level-2);\n",
              "}\n",
              "\n",
              "#sk-container-id-4 div.sk-label label.sk-toggleable__label,\n",
              "#sk-container-id-4 div.sk-label label {\n",
              "  /* The background is the default theme color */\n",
              "  color: var(--sklearn-color-text-on-default-background);\n",
              "}\n",
              "\n",
              "/* On hover, darken the color of the background */\n",
              "#sk-container-id-4 div.sk-label:hover label.sk-toggleable__label {\n",
              "  color: var(--sklearn-color-text);\n",
              "  background-color: var(--sklearn-color-unfitted-level-2);\n",
              "}\n",
              "\n",
              "/* Label box, darken color on hover, fitted */\n",
              "#sk-container-id-4 div.sk-label.fitted:hover label.sk-toggleable__label.fitted {\n",
              "  color: var(--sklearn-color-text);\n",
              "  background-color: var(--sklearn-color-fitted-level-2);\n",
              "}\n",
              "\n",
              "/* Estimator label */\n",
              "\n",
              "#sk-container-id-4 div.sk-label label {\n",
              "  font-family: monospace;\n",
              "  font-weight: bold;\n",
              "  display: inline-block;\n",
              "  line-height: 1.2em;\n",
              "}\n",
              "\n",
              "#sk-container-id-4 div.sk-label-container {\n",
              "  text-align: center;\n",
              "}\n",
              "\n",
              "/* Estimator-specific */\n",
              "#sk-container-id-4 div.sk-estimator {\n",
              "  font-family: monospace;\n",
              "  border: 1px dotted var(--sklearn-color-border-box);\n",
              "  border-radius: 0.25em;\n",
              "  box-sizing: border-box;\n",
              "  margin-bottom: 0.5em;\n",
              "  /* unfitted */\n",
              "  background-color: var(--sklearn-color-unfitted-level-0);\n",
              "}\n",
              "\n",
              "#sk-container-id-4 div.sk-estimator.fitted {\n",
              "  /* fitted */\n",
              "  background-color: var(--sklearn-color-fitted-level-0);\n",
              "}\n",
              "\n",
              "/* on hover */\n",
              "#sk-container-id-4 div.sk-estimator:hover {\n",
              "  /* unfitted */\n",
              "  background-color: var(--sklearn-color-unfitted-level-2);\n",
              "}\n",
              "\n",
              "#sk-container-id-4 div.sk-estimator.fitted:hover {\n",
              "  /* fitted */\n",
              "  background-color: var(--sklearn-color-fitted-level-2);\n",
              "}\n",
              "\n",
              "/* Specification for estimator info (e.g. \"i\" and \"?\") */\n",
              "\n",
              "/* Common style for \"i\" and \"?\" */\n",
              "\n",
              ".sk-estimator-doc-link,\n",
              "a:link.sk-estimator-doc-link,\n",
              "a:visited.sk-estimator-doc-link {\n",
              "  float: right;\n",
              "  font-size: smaller;\n",
              "  line-height: 1em;\n",
              "  font-family: monospace;\n",
              "  background-color: var(--sklearn-color-background);\n",
              "  border-radius: 1em;\n",
              "  height: 1em;\n",
              "  width: 1em;\n",
              "  text-decoration: none !important;\n",
              "  margin-left: 1ex;\n",
              "  /* unfitted */\n",
              "  border: var(--sklearn-color-unfitted-level-1) 1pt solid;\n",
              "  color: var(--sklearn-color-unfitted-level-1);\n",
              "}\n",
              "\n",
              ".sk-estimator-doc-link.fitted,\n",
              "a:link.sk-estimator-doc-link.fitted,\n",
              "a:visited.sk-estimator-doc-link.fitted {\n",
              "  /* fitted */\n",
              "  border: var(--sklearn-color-fitted-level-1) 1pt solid;\n",
              "  color: var(--sklearn-color-fitted-level-1);\n",
              "}\n",
              "\n",
              "/* On hover */\n",
              "div.sk-estimator:hover .sk-estimator-doc-link:hover,\n",
              ".sk-estimator-doc-link:hover,\n",
              "div.sk-label-container:hover .sk-estimator-doc-link:hover,\n",
              ".sk-estimator-doc-link:hover {\n",
              "  /* unfitted */\n",
              "  background-color: var(--sklearn-color-unfitted-level-3);\n",
              "  color: var(--sklearn-color-background);\n",
              "  text-decoration: none;\n",
              "}\n",
              "\n",
              "div.sk-estimator.fitted:hover .sk-estimator-doc-link.fitted:hover,\n",
              ".sk-estimator-doc-link.fitted:hover,\n",
              "div.sk-label-container:hover .sk-estimator-doc-link.fitted:hover,\n",
              ".sk-estimator-doc-link.fitted:hover {\n",
              "  /* fitted */\n",
              "  background-color: var(--sklearn-color-fitted-level-3);\n",
              "  color: var(--sklearn-color-background);\n",
              "  text-decoration: none;\n",
              "}\n",
              "\n",
              "/* Span, style for the box shown on hovering the info icon */\n",
              ".sk-estimator-doc-link span {\n",
              "  display: none;\n",
              "  z-index: 9999;\n",
              "  position: relative;\n",
              "  font-weight: normal;\n",
              "  right: .2ex;\n",
              "  padding: .5ex;\n",
              "  margin: .5ex;\n",
              "  width: min-content;\n",
              "  min-width: 20ex;\n",
              "  max-width: 50ex;\n",
              "  color: var(--sklearn-color-text);\n",
              "  box-shadow: 2pt 2pt 4pt #999;\n",
              "  /* unfitted */\n",
              "  background: var(--sklearn-color-unfitted-level-0);\n",
              "  border: .5pt solid var(--sklearn-color-unfitted-level-3);\n",
              "}\n",
              "\n",
              ".sk-estimator-doc-link.fitted span {\n",
              "  /* fitted */\n",
              "  background: var(--sklearn-color-fitted-level-0);\n",
              "  border: var(--sklearn-color-fitted-level-3);\n",
              "}\n",
              "\n",
              ".sk-estimator-doc-link:hover span {\n",
              "  display: block;\n",
              "}\n",
              "\n",
              "/* \"?\"-specific style due to the `<a>` HTML tag */\n",
              "\n",
              "#sk-container-id-4 a.estimator_doc_link {\n",
              "  float: right;\n",
              "  font-size: 1rem;\n",
              "  line-height: 1em;\n",
              "  font-family: monospace;\n",
              "  background-color: var(--sklearn-color-background);\n",
              "  border-radius: 1rem;\n",
              "  height: 1rem;\n",
              "  width: 1rem;\n",
              "  text-decoration: none;\n",
              "  /* unfitted */\n",
              "  color: var(--sklearn-color-unfitted-level-1);\n",
              "  border: var(--sklearn-color-unfitted-level-1) 1pt solid;\n",
              "}\n",
              "\n",
              "#sk-container-id-4 a.estimator_doc_link.fitted {\n",
              "  /* fitted */\n",
              "  border: var(--sklearn-color-fitted-level-1) 1pt solid;\n",
              "  color: var(--sklearn-color-fitted-level-1);\n",
              "}\n",
              "\n",
              "/* On hover */\n",
              "#sk-container-id-4 a.estimator_doc_link:hover {\n",
              "  /* unfitted */\n",
              "  background-color: var(--sklearn-color-unfitted-level-3);\n",
              "  color: var(--sklearn-color-background);\n",
              "  text-decoration: none;\n",
              "}\n",
              "\n",
              "#sk-container-id-4 a.estimator_doc_link.fitted:hover {\n",
              "  /* fitted */\n",
              "  background-color: var(--sklearn-color-fitted-level-3);\n",
              "}\n",
              "</style><div id=\"sk-container-id-4\" class=\"sk-top-container\"><div class=\"sk-text-repr-fallback\"><pre>GridSearchCV(cv=5, estimator=MLPClassifier(max_iter=1000, random_state=42),\n",
              "             param_grid={&#x27;activation&#x27;: [&#x27;relu&#x27;, &#x27;tanh&#x27;],\n",
              "                         &#x27;alpha&#x27;: [0.001, 0.01, 0.1],\n",
              "                         &#x27;hidden_layer_sizes&#x27;: [(5, 5, 5), (10, 10), (15, 15)],\n",
              "                         &#x27;learning_rate&#x27;: [&#x27;adaptive&#x27;, &#x27;constant&#x27;],\n",
              "                         &#x27;solver&#x27;: [&#x27;adam&#x27;, &#x27;sgd&#x27;]},\n",
              "             scoring=&#x27;accuracy&#x27;)</pre><b>In a Jupyter environment, please rerun this cell to show the HTML representation or trust the notebook. <br />On GitHub, the HTML representation is unable to render, please try loading this page with nbviewer.org.</b></div><div class=\"sk-container\" hidden><div class=\"sk-item sk-dashed-wrapped\"><div class=\"sk-label-container\"><div class=\"sk-label fitted sk-toggleable\"><input class=\"sk-toggleable__control sk-hidden--visually\" id=\"sk-estimator-id-10\" type=\"checkbox\" ><label for=\"sk-estimator-id-10\" class=\"sk-toggleable__label fitted sk-toggleable__label-arrow fitted\">&nbsp;&nbsp;GridSearchCV<a class=\"sk-estimator-doc-link fitted\" rel=\"noreferrer\" target=\"_blank\" href=\"https://scikit-learn.org/1.5/modules/generated/sklearn.model_selection.GridSearchCV.html\">?<span>Documentation for GridSearchCV</span></a><span class=\"sk-estimator-doc-link fitted\">i<span>Fitted</span></span></label><div class=\"sk-toggleable__content fitted\"><pre>GridSearchCV(cv=5, estimator=MLPClassifier(max_iter=1000, random_state=42),\n",
              "             param_grid={&#x27;activation&#x27;: [&#x27;relu&#x27;, &#x27;tanh&#x27;],\n",
              "                         &#x27;alpha&#x27;: [0.001, 0.01, 0.1],\n",
              "                         &#x27;hidden_layer_sizes&#x27;: [(5, 5, 5), (10, 10), (15, 15)],\n",
              "                         &#x27;learning_rate&#x27;: [&#x27;adaptive&#x27;, &#x27;constant&#x27;],\n",
              "                         &#x27;solver&#x27;: [&#x27;adam&#x27;, &#x27;sgd&#x27;]},\n",
              "             scoring=&#x27;accuracy&#x27;)</pre></div> </div></div><div class=\"sk-parallel\"><div class=\"sk-parallel-item\"><div class=\"sk-item\"><div class=\"sk-label-container\"><div class=\"sk-label fitted sk-toggleable\"><input class=\"sk-toggleable__control sk-hidden--visually\" id=\"sk-estimator-id-11\" type=\"checkbox\" ><label for=\"sk-estimator-id-11\" class=\"sk-toggleable__label fitted sk-toggleable__label-arrow fitted\">best_estimator_: MLPClassifier</label><div class=\"sk-toggleable__content fitted\"><pre>MLPClassifier(activation=&#x27;tanh&#x27;, alpha=0.001, hidden_layer_sizes=(15, 15),\n",
              "              learning_rate=&#x27;adaptive&#x27;, max_iter=1000, random_state=42)</pre></div> </div></div><div class=\"sk-serial\"><div class=\"sk-item\"><div class=\"sk-estimator fitted sk-toggleable\"><input class=\"sk-toggleable__control sk-hidden--visually\" id=\"sk-estimator-id-12\" type=\"checkbox\" ><label for=\"sk-estimator-id-12\" class=\"sk-toggleable__label fitted sk-toggleable__label-arrow fitted\">&nbsp;MLPClassifier<a class=\"sk-estimator-doc-link fitted\" rel=\"noreferrer\" target=\"_blank\" href=\"https://scikit-learn.org/1.5/modules/generated/sklearn.neural_network.MLPClassifier.html\">?<span>Documentation for MLPClassifier</span></a></label><div class=\"sk-toggleable__content fitted\"><pre>MLPClassifier(activation=&#x27;tanh&#x27;, alpha=0.001, hidden_layer_sizes=(15, 15),\n",
              "              learning_rate=&#x27;adaptive&#x27;, max_iter=1000, random_state=42)</pre></div> </div></div></div></div></div></div></div></div></div>"
            ]
          },
          "metadata": {},
          "execution_count": 55
        }
      ]
    },
    {
      "cell_type": "code",
      "source": [
        "print(f\"Best accuracy: {clf.best_score_}\")\n",
        "print(f\"Best parameters: {clf.best_params_}\")"
      ],
      "metadata": {
        "colab": {
          "base_uri": "https://localhost:8080/"
        },
        "id": "uErIBd5qDpHV",
        "outputId": "efc53e5a-0e76-494c-9027-4d005b724249"
      },
      "execution_count": 56,
      "outputs": [
        {
          "output_type": "stream",
          "name": "stdout",
          "text": [
            "Best accuracy: 0.9714285714285713\n",
            "Best parameters: {'activation': 'tanh', 'alpha': 0.001, 'hidden_layer_sizes': (15, 15), 'learning_rate': 'adaptive', 'solver': 'adam'}\n"
          ]
        }
      ]
    },
    {
      "cell_type": "markdown",
      "source": [
        "# Final Run"
      ],
      "metadata": {
        "id": "kWipDkJG2CPT"
      }
    },
    {
      "cell_type": "code",
      "source": [
        "mlp_new = MLPClassifier(hidden_layer_sizes=(15,15),\n",
        "                    max_iter=1,\n",
        "                    activation='tanh',\n",
        "                    learning_rate='adaptive',\n",
        "                    alpha= 0.001,\n",
        "                    solver='adam',\n",
        "                    random_state=42,\n",
        "                    verbose = False)\n",
        "\n",
        "width = [13,15,3]\n",
        "kan_new= KAN(width=width, grid=2, k=5, seed=42)\n",
        "epochs = 50\n",
        "mlp_metrics_new,kan_metrics_new = run_models(epochs)\n",
        "plot_comparison_over_epochs(mlp_metrics_new, kan_metrics_new,epochs)\n",
        "mlp_new.fit(x_train_tensor, y_train_tensor)\n",
        "criteria_comparison(mlp_new,kan_new,x_test_tensor,y_test_tensor)"
      ],
      "metadata": {
        "id": "8rb3CLxS2Ij4",
        "colab": {
          "base_uri": "https://localhost:8080/",
          "height": 1000
        },
        "outputId": "babeecc0-cb6e-4c79-b4da-339e8653423c"
      },
      "execution_count": 63,
      "outputs": [
        {
          "output_type": "stream",
          "name": "stdout",
          "text": [
            "checkpoint directory created: ./model\n",
            "saving model version 0.0\n",
            "Epoch [10/50],MLP Train Loss: 0.538, MLP Train Accuracy: 0.660377358490566\n",
            "Epoch [20/50],MLP Train Loss: 0.434, MLP Train Accuracy: 0.7075471698113207\n",
            "Epoch [30/50],MLP Train Loss: 0.377, MLP Train Accuracy: 0.7641509433962265\n",
            "Epoch [40/50],MLP Train Loss: 0.274, MLP Train Accuracy: 0.839622641509434\n",
            "Epoch [50/50],MLP Train Loss: 0.226, MLP Train Accuracy: 0.8584905660377359\n",
            "\n",
            "Epoch [10/50],MLP Test Loss: 0.347, MLP Test Accuracy: 0.8194444444444444\n",
            "Epoch [20/50],MLP Test Loss: 0.347, MLP Test Accuracy: 0.8194444444444444\n",
            "Epoch [30/50],MLP Test Loss: 0.347, MLP Test Accuracy: 0.8194444444444444\n",
            "Epoch [40/50],MLP Test Loss: 0.347, MLP Test Accuracy: 0.8194444444444444\n",
            "Epoch [50/50],MLP Test Loss: 0.347, MLP Test Accuracy: 0.8194444444444444\n",
            "MLP Execution time: 0.29 seconds\n",
            "\n",
            "Epoch [10/50],KAN Train Loss: 0.000, KAN Train Accuracy: 1.0\n",
            "Epoch [20/50],KAN Train Loss: 0.000, KAN Train Accuracy: 1.0\n",
            "Epoch [30/50],KAN Train Loss: 0.000, KAN Train Accuracy: 1.0\n",
            "Epoch [40/50],KAN Train Loss: 0.000, KAN Train Accuracy: 1.0\n",
            "Epoch [50/50],KAN Train Loss: 0.000, KAN Train Accuracy: 1.0\n",
            "Epoch [10/50],KAN Test Loss: 2.190,KAN Test Accuracy: 0.972\n",
            "Epoch [20/50],KAN Test Loss: 2.190,KAN Test Accuracy: 0.972\n",
            "Epoch [30/50],KAN Test Loss: 2.190,KAN Test Accuracy: 0.972\n",
            "Epoch [40/50],KAN Test Loss: 2.190,KAN Test Accuracy: 0.972\n",
            "Epoch [50/50],KAN Test Loss: 2.190,KAN Test Accuracy: 0.972\n",
            "KAN Execution time: 4.11 seconds\n"
          ]
        },
        {
          "output_type": "display_data",
          "data": {
            "text/plain": [
              "<Figure size 1000x600 with 3 Axes>"
            ],
            "image/png": "[encoded data removed]"
          },
          "metadata": {}
        },
        {
          "output_type": "stream",
          "name": "stdout",
          "text": [
            "MLP Classification Report:\n",
            "              precision    recall  f1-score   support\n",
            "\n",
            "           1       0.00      0.00      0.00        26\n",
            "           2       0.33      0.81      0.47        27\n",
            "           3       0.00      0.00      0.00        19\n",
            "\n",
            "    accuracy                           0.31        72\n",
            "   macro avg       0.11      0.27      0.16        72\n",
            "weighted avg       0.12      0.31      0.18        72\n",
            "\n",
            "MLP Confusion Matrix:\n",
            "[[ 0 26  0]\n",
            " [ 2 22  3]\n",
            " [ 1 18  0]]\n",
            "KAN Classification Report:\n",
            "              precision    recall  f1-score   support\n",
            "\n",
            "           1       0.53      0.77      0.62        26\n",
            "           2       0.74      0.93      0.82        27\n",
            "           3       0.00      0.00      0.00        19\n",
            "\n",
            "    accuracy                           0.62        72\n",
            "   macro avg       0.42      0.57      0.48        72\n",
            "weighted avg       0.47      0.62      0.53        72\n",
            "\n",
            "KAN Confusion Matrix:\n",
            "[[20  6  0]\n",
            " [ 2 25  0]\n",
            " [16  3  0]]\n"
          ]
        }
      ]
    }
  ],
  "metadata": {
    "colab": {
      "collapsed_sections": [
        "FRVmujAS_5KM",
        "viFNCJ0n_4Gw",
        "RXqFvEH1BNB1",
        "QuDnSAvzc2lt",
        "hI3eyPDc1gbD",
        "TMS-nQNQaqwE",
        "3wE_1Z3gMOp7",
        "cDe6EHenCQT0",
        "qSsKZk7TCafa",
        "WgRQmGitCypQ",
        "rYu5fWPLM9hp",
        "mqs77K5yjNS0",
        "kWipDkJG2CPT"
      ],
      "provenance": [],
      "include_colab_link": true
    },
    "kernelspec": {
      "display_name": "Python 3",
      "name": "python3"
    },
    "language_info": {
      "name": "python"
    }
  },
  "nbformat": 4,
  "nbformat_minor": 0
}
